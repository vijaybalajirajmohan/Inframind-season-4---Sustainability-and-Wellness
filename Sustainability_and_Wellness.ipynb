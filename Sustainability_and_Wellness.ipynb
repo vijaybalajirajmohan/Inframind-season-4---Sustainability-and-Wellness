{
 "cells": [
  {
   "cell_type": "code",
   "execution_count": 51,
   "metadata": {
    "id": "E3xyJg64eEHd"
   },
   "outputs": [],
   "source": [
    "import pandas as pd\n",
    "import numpy as np\n",
    "import matplotlib.pyplot as plt\n",
    "#matplotlib inline - giving instruction to include all plots inline.\n",
    "%matplotlib inline \n",
    "#sklearn  Scikit LIbral ML)\n",
    "# standardscaler - standardizes the data- makes all the features unitless (similar to normalization)\n",
    "from sklearn.preprocessing import StandardScaler\n",
    "from sklearn.model_selection import train_test_split\n",
    "from sklearn.neural_network import MLPClassifier\n",
    "from sklearn import metrics\n",
    "from sklearn.metrics import roc_curve,auc\n",
    "from sklearn import datasets, svm \n",
    "from sklearn.svm import SVC\n",
    "from sklearn.neighbors import KNeighborsClassifier\n",
    "from sklearn import datasets, svm \n",
    "from sklearn.svm import SVC"
   ]
  },
  {
   "cell_type": "code",
   "execution_count": 52,
   "metadata": {
    "id": "Vw68OCyzeEHg"
   },
   "outputs": [],
   "source": [
    "cnt = 0\n",
    "input=[[]]\n"
   ]
  },
  {
   "cell_type": "markdown",
   "metadata": {
    "id": "NGYsv6DFeEHh"
   },
   "source": [
    "# Coronary Heart Disease"
   ]
  },
  {
   "cell_type": "code",
   "execution_count": 54,
   "metadata": {
    "colab": {
     "base_uri": "https://localhost:8080/",
     "height": 362
    },
    "id": "T3KDS5-XeEHi",
    "outputId": "c44c16f0-d82a-4551-9118-238711c3311f"
   },
   "outputs": [
    {
     "name": "stdout",
     "output_type": "stream",
     "text": [
      "MLP: 0.9713333333333334\n"
     ]
    },
    {
     "data": {
      "image/png": "[encoded data removed]",
      "text/plain": [
       "<Figure size 432x288 with 1 Axes>"
      ]
     },
     "metadata": {
      "needs_background": "light"
     },
     "output_type": "display_data"
    },
    {
     "name": "stdout",
     "output_type": "stream",
     "text": [
      "SVM: 0.963\n",
      "KNN Classifier: 0.9693333333333334\n",
      "[0]\n"
     ]
    }
   ],
   "source": [
    "# read excel files from the folder\n",
    "A=pd.read_csv('D:\\datasets\\cvd_dataset_.csv',header=0) \n",
    "# X Y split\n",
    "X=A.drop(['id','age','gender','cardio'],axis=1)# two brackets needed to fetch more than one column\n",
    "Y=A['cardio']\n",
    "xtrain,xtest,ytrain,ytest=train_test_split(X,Y,test_size=.3,random_state=4);\n",
    "\n",
    "\n",
    "\n",
    "\n",
    "# Z Score Standardization\n",
    "S=StandardScaler()\n",
    "S.fit(A)\n",
    "xtrain=S.fit_transform(xtrain)\n",
    "xtest=S.fit_transform(xtest)\n",
    "\n",
    "#MLP Classifier\n",
    "model=MLPClassifier(hidden_layer_sizes=(128,128,128),activation='tanh',solver='sgd', alpha=0.0001, batch_size='auto' , learning_rate='constant', learning_rate_init=0.001, max_iter=200)# MLP model definition\n",
    "model.fit(xtrain,ytrain)# fitting the model to our data\n",
    "y_predict=model.predict(xtest)\n",
    "\n",
    "\n",
    "y_predict.shape\n",
    "acc=metrics.accuracy_score(ytest,y_predict)# accuracy calculation\n",
    "print('MLP:',acc)\n",
    "\n",
    "\n",
    "cm=metrics.confusion_matrix(ytest,y_predict)\n",
    "\n",
    "sensitivity=cm[1,1]/(cm[1,0]+cm[1,1])\n",
    "specificity=cm[0,0]/(cm[0,0]+cm[0,1])\n",
    "\n",
    "\n",
    "# ROC Plotting\n",
    "fpr,tpr, _=roc_curve(ytest,y_predict)\n",
    "roc_auc=auc(fpr, tpr)\n",
    "\n",
    "plt.figure()\n",
    "plt.plot(fpr,tpr)\n",
    "plt.xlim([0.0,1.0])\n",
    "plt.ylim([0.0,1.0])\n",
    "plt.xlabel('False Positive Rate')\n",
    "plt.ylabel('True Positive Rate')\n",
    "plt.title('Receiver Operating Characteristics')\n",
    "plt.show()\n",
    "\n",
    "\n",
    "#SVM Quadratic Kernel\n",
    "model_quad=SVC(kernel='sigmoid')\n",
    "model_quad.fit(xtrain, ytrain)\n",
    "pred_quad=model_quad.predict(xtest)\n",
    "acc=metrics.accuracy_score(ytest,pred_quad)# accuracy calculation\n",
    "print('SVM:',acc)\n",
    "\n",
    "#KNN Classifier\n",
    "\n",
    "#Instatntiate Learning model (k=3)\n",
    "classifier = KNeighborsClassifier(n_neighbors=3)\n",
    "\n",
    "#Fitting the model\n",
    "classifier.fit(xtrain,ytrain)\n",
    "\n",
    "#predicting the test set results\n",
    "y_knn=classifier.predict(xtest)\n",
    "acc=metrics.accuracy_score(ytest,y_knn)# accuracy calculation\n",
    "print('KNN Classifier:',acc)\n",
    "\n",
    "\n",
    "new_output = model.predict([input[0]])\n",
    "print(new_output)\n",
    "\n",
    "\n",
    "if new_output==1: cnt+=1"
   ]
  },
  {
   "cell_type": "markdown",
   "metadata": {
    "id": "9NmrpdypeEHj"
   },
   "source": [
    "# Bronchiectasis"
   ]
  },
  {
   "cell_type": "code",
   "execution_count": 55,
   "metadata": {
    "colab": {
     "base_uri": "https://localhost:8080/"
    },
    "id": "MyD1jSHmeEHj",
    "outputId": "2e90a84c-8568-48c4-af3e-ebde84f54e68"
   },
   "outputs": [
    {
     "name": "stdout",
     "output_type": "stream",
     "text": [
      "MLP: 0.8537906137184116\n",
      "SVM: 0.8068592057761733\n",
      "KNN classifier: 0.9620938628158845\n",
      "['Bronchiectasis']\n",
      "1\n"
     ]
    }
   ],
   "source": [
    "\n",
    "from sklearn.neighbors import KNeighborsClassifier\n",
    "\n",
    "A1=pd.read_csv('D:\\datasets\\Exasens.csv',header=0) # read excel files\n",
    "\n",
    "# X Y split\n",
    "X1=A1.drop(['Diagnosis'],axis=1)# two brackets needed to fetch more than one column\n",
    "Y1=A1['Diagnosis']\n",
    "xtrain1,xtest1,ytrain1,ytest1=train_test_split(X1,Y1,test_size=.2,random_state=4);\n",
    "\n",
    "# Z Score Standardization\n",
    "S1=StandardScaler()\n",
    "#S1.fit(A1)\n",
    "xtrain1=S1.fit_transform(xtrain1)\n",
    "xtest1=S1.fit_transform(xtest1)\n",
    "\n",
    "# MLP Classifier\n",
    "model1=MLPClassifier(hidden_layer_sizes=(128,128,128),activation='tanh',solver='sgd', alpha=0.0001, batch_size='auto' , learning_rate='constant', learning_rate_init=0.001, max_iter=1000)# MLP model definition\n",
    "\n",
    "model1.fit(xtrain1,ytrain1)# fitting the model to our data\n",
    "y_predict1=model1.predict(xtest1)\n",
    "\n",
    "acc1=metrics.accuracy_score(ytest1,y_predict1)# accuracy calculation\n",
    "print('MLP:',acc1)\n",
    "\n",
    "cm1=metrics.confusion_matrix(ytest1,y_predict1)\n",
    "\n",
    "sensitivity1=cm1[1,1]/(cm1[1,0]+cm1[1,1])\n",
    "specificity1=cm1[0,0]/(cm1[0,0]+cm1[0,1])\n",
    "\n",
    "#SVM Quadratic Kernel\n",
    "model_quad1=SVC(kernel='sigmoid')\n",
    "model_quad1.fit(xtrain1, ytrain1)\n",
    "pred_quad1=model_quad1.predict(xtest1)\n",
    "acc1=metrics.accuracy_score(ytest1,pred_quad1)# accuracy calculation\n",
    "print('SVM:',acc1)\n",
    "\n",
    "\n",
    "#KNN Classifier\n",
    "\n",
    "#Instatntiate Learning model (k=3)\n",
    "classifier1 = KNeighborsClassifier(n_neighbors=6)\n",
    "\n",
    "#Fitting the model\n",
    "classifier1.fit(xtrain1,ytrain1)\n",
    "\n",
    "#predicting the test set results\n",
    "y_knn1=classifier1.predict(xtest1)\n",
    "acc11=metrics.accuracy_score(ytest1,y_knn1)# accuracy calculation\n",
    "print('KNN classifier:',acc11)\n",
    "\n",
    "output1=classifier1.predict([input[1]])\n",
    "print(output1)\n",
    "\n",
    "\n",
    "diease_array = ['Bronchiectasis','COPD']\n",
    "if output1[0] in diease_array: cnt+=1\n",
    "print(cnt)    \n",
    "\n",
    "\n"
   ]
  },
  {
   "cell_type": "code",
   "execution_count": 56,
   "metadata": {
    "id": "YE4lf6eFeEHk"
   },
   "outputs": [],
   "source": [
    "def check(arr):\n",
    "    counting_variable = 0\n",
    "    oxy_sat = arr[0]\n",
    "    heart = arr[1]\n",
    "    resp = arr[2]\n",
    "    sugar = arr[3]\n",
    "    \n",
    " #Hypoxemia    \n",
    "    if oxy_sat<96: \n",
    "        print(\"Hypoxemia is detected\")\n",
    "        counting_variable+=1\n",
    "        \n",
    " # Moderate Acute Asthma        \n",
    "    if((oxy_sat>=92 and oxy_sat<=95) and (heart>=100 and heart<=125) and (resp>=20 and resp<=30)): \n",
    "        print(\"Moderate Acute Asthma is detected\")\n",
    "        counting_variable+=1\n",
    "        \n",
    " # Diabetes and Prediabetes      \n",
    "    if sugar>139: \n",
    "        counting_variable+=1\n",
    "        if sugar>139 and sugar<200:\n",
    "            print(\"Prediabetes is detected\")\n",
    "        else:\n",
    "            print(\"Diabetes is detected\")\n",
    "            \n",
    "        \n",
    "        \n",
    "    return counting_variable\n",
    "\n",
    "    "
   ]
  },
  {
   "cell_type": "code",
   "execution_count": 57,
   "metadata": {
    "colab": {
     "base_uri": "https://localhost:8080/"
    },
    "id": "_swlDWAueEHl",
    "outputId": "de11937c-b2d3-44c3-b1f5-457357ab5efc"
   },
   "outputs": [
    {
     "name": "stdout",
     "output_type": "stream",
     "text": [
      "0\n"
     ]
    }
   ],
   "source": [
    "out = check(input[2])\n",
    "print(out)"
   ]
  },
  {
   "cell_type": "code",
   "execution_count": 58,
   "metadata": {
    "colab": {
     "base_uri": "https://localhost:8080/"
    },
    "id": "e4x0NWKBeEHm",
    "outputId": "8fdfdada-cc16-4376-f3c6-8f771b4bdf83"
   },
   "outputs": [
    {
     "name": "stdout",
     "output_type": "stream",
     "text": [
      "1\n"
     ]
    }
   ],
   "source": [
    "if out > 0: cnt += out\n",
    "    \n",
    "print(cnt)"
   ]
  },
  {
   "cell_type": "code",
   "execution_count": 59,
   "metadata": {
    "id": "Stm16SxYeEHn"
   },
   "outputs": [],
   "source": [
    "if cnt > 0:\n",
    "    detect = \"Bad\"\n",
    "else:\n",
    "    detect = \"Good\"\n",
    "    "
   ]
  },
  {
   "cell_type": "code",
   "execution_count": 60,
   "metadata": {
    "colab": {
     "base_uri": "https://localhost:8080/"
    },
    "id": "LxRhN9wdoBsD",
    "outputId": "ec7bdc56-fb1e-495a-c58f-2e636a8e1d2f"
   },
   "outputs": [
    {
     "name": "stdout",
     "output_type": "stream",
     "text": [
      "Bad\n"
     ]
    }
   ],
   "source": [
    "print(detect)"
   ]
  },
  {
   "cell_type": "code",
   "execution_count": 61,
   "metadata": {
    "id": "eeT3VsbreEHn"
   },
   "outputs": [],
   "source": [
    "import pickle\n",
    "pickle.dump(detect,open('sustainability_and_wellness.pkl','wb'))"
   ]
  },
  {
   "cell_type": "code",
   "execution_count": 62,
   "metadata": {
    "id": "uEXBdbrfeEHo"
   },
   "outputs": [],
   "source": [
    "#save the data columns\n",
    "import json\n",
    "\n",
    "columns = {'data_columns' : [col.lower() for col in X.columns]}\n",
    "\n",
    "with open(\"columns.json\",\"w\") as f:\n",
    "    f.write(json.dumps(columns))    "
   ]
  }
 ],
 "metadata": {
  "colab": {
   "collapsed_sections": [],
   "name": "Copy of Sustainability and Wellness (1).ipynb",
   "provenance": [],
   "toc_visible": true
  },
  "kernelspec": {
   "display_name": "Python 3",
   "language": "python",
   "name": "python3"
  },
  "language_info": {
   "codemirror_mode": {
    "name": "ipython",
    "version": 3
   },
   "file_extension": ".py",
   "mimetype": "text/x-python",
   "name": "python",
   "nbconvert_exporter": "python",
   "pygments_lexer": "ipython3",
   "version": "3.8.3"
  }
 },
 "nbformat": 4,
 "nbformat_minor": 1
}
